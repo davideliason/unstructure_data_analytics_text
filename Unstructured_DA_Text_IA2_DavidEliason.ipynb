{
 "cells": [
  {
   "cell_type": "code",
   "execution_count": 11,
   "metadata": {},
   "outputs": [],
   "source": [
    "import nltk\n",
    "\n",
    "d1 = \"My name is David and I drink coffee\"\n",
    "d2 = \"Also I enjoy French cooking and theater\"\n",
    "d3 = \"Mountaineering, kayaking, and bicycling interest me\"\n"
   ]
  },
  {
   "cell_type": "code",
   "execution_count": 13,
   "metadata": {},
   "outputs": [
    {
     "name": "stdout",
     "output_type": "stream",
     "text": [
      "['My', 'name', 'is', 'David', 'and', 'I', 'drink', 'coffee']\n"
     ]
    }
   ],
   "source": [
    "#TOKENIZE\n",
    "token_d1 = nltk.word_tokenize(d1)\n",
    "print(token_d1)"
   ]
  },
  {
   "cell_type": "code",
   "execution_count": null,
   "metadata": {},
   "outputs": [],
   "source": []
  }
 ],
 "metadata": {
  "kernelspec": {
   "display_name": "Python 3",
   "language": "python",
   "name": "python3"
  },
  "language_info": {
   "codemirror_mode": {
    "name": "ipython",
    "version": 3
   },
   "file_extension": ".py",
   "mimetype": "text/x-python",
   "name": "python",
   "nbconvert_exporter": "python",
   "pygments_lexer": "ipython3",
   "version": "3.7.3"
  }
 },
 "nbformat": 4,
 "nbformat_minor": 2
}
